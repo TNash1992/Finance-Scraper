{
 "cells": [
  {
   "cell_type": "code",
   "execution_count": 2,
   "metadata": {},
   "outputs": [],
   "source": [
    "import requests\n",
    "import lxml.html as lh\n",
    "import pandas as pd"
   ]
  },
  {
   "cell_type": "code",
   "execution_count": 3,
   "metadata": {},
   "outputs": [],
   "source": [
    "url = 'https://tools.morningstar.co.uk/uk/stockreport/default.aspx?tab=10&vw=bs&SecurityToken=0P000003MC%5D3%5D0%5DE0WWE%24%24ALL&Id=0P000003MC&ClientFund=0&CurrencyId=BAS'\n"
   ]
  },
  {
   "cell_type": "code",
   "execution_count": 4,
   "metadata": {},
   "outputs": [],
   "source": [
    "#Create a handle, page, to handle the contents of the website\n",
    "page = requests.get(url)\n"
   ]
  },
  {
   "cell_type": "code",
   "execution_count": 5,
   "metadata": {},
   "outputs": [],
   "source": [
    "#Store contents of the website under doc\n",
    "doc = lh.fromstring(page.content)\n"
   ]
  },
  {
   "cell_type": "code",
   "execution_count": 6,
   "metadata": {},
   "outputs": [
    {
     "data": {
      "text/plain": [
       "<Element tr at 0x19a3d7c7cc8>"
      ]
     },
     "execution_count": 6,
     "metadata": {},
     "output_type": "execute_result"
    }
   ],
   "source": [
    "#Parse data stored between <tr>\n",
    "tr_elements = doc.xpath('//tr')\n",
    "tr_elements.pop(0)"
   ]
  },
  {
   "cell_type": "code",
   "execution_count": 7,
   "metadata": {},
   "outputs": [
    {
     "data": {
      "text/plain": [
       "[6, 1, 1, 1, 6, 6, 6, 6, 6, 6, 6, 1, 6, 6, 6, 6, 6, 6, 6, 1]"
      ]
     },
     "execution_count": 7,
     "metadata": {},
     "output_type": "execute_result"
    }
   ],
   "source": [
    "#Check length of first 12 rows\n",
    "[len(T) for T in tr_elements[:20]]"
   ]
  },
  {
   "cell_type": "code",
   "execution_count": 8,
   "metadata": {},
   "outputs": [
    {
     "name": "stdout",
     "output_type": "stream",
     "text": [
      "1:\"\"\n",
      "2:\"2015\"\n",
      "3:\"2016\"\n",
      "4:\"2017\"\n",
      "5:\"2018\"\n",
      "6:\"2019\"\n"
     ]
    }
   ],
   "source": [
    "#Parse first row as header (financial years)\n",
    "#Create empty list\n",
    "col=[]\n",
    "i=0\n",
    "\n",
    "#For each row, store each first elements (header) and an empty list\n",
    "for t in tr_elements[0]:\n",
    "    i+=1\n",
    "    name = t.text_content()\n",
    "    print('%d:\"%s\"'%(i,name))\n",
    "    col.append((name,[]))"
   ]
  },
  {
   "cell_type": "code",
   "execution_count": 9,
   "metadata": {},
   "outputs": [],
   "source": [
    "#Since first row is header, data stored on second row onwards\n",
    "for j in range(1,len(tr_elements)):\n",
    "    #T is our j'th row\n",
    "    T=tr_elements[j]\n",
    "    \n",
    "    #if row is not of size 6, the //tr data is not from our table (should just delete primary headings but retain line items)\n",
    "    if len(T)!=6:\n",
    "        continue\n",
    "        \n",
    "    #i is the index of our column\n",
    "    i=0\n",
    "    \n",
    "    #iterate through each element of row\n",
    "    for t in T.iterchildren():\n",
    "        data = t.text_content()\n",
    "        #check if row is empty\n",
    "        if i>0:\n",
    "            try:\n",
    "                data=int(data)\n",
    "            except:\n",
    "                pass\n",
    "        #Append data to empty list of the i'th column\n",
    "        col[i][1].append(data)\n",
    "        #Increment i for the next column\n",
    "        i+=1\n",
    "        "
   ]
  },
  {
   "cell_type": "code",
   "execution_count": 10,
   "metadata": {},
   "outputs": [
    {
     "data": {
      "text/plain": [
       "[31, 31, 31, 31, 31, 31]"
      ]
     },
     "execution_count": 10,
     "metadata": {},
     "output_type": "execute_result"
    }
   ],
   "source": [
    "#check column lengths\n",
    "[len(C) for (title,C) in col]"
   ]
  },
  {
   "cell_type": "code",
   "execution_count": 12,
   "metadata": {
    "scrolled": true
   },
   "outputs": [
    {
     "data": {
      "text/html": [
       "<div>\n",
       "<style scoped>\n",
       "    .dataframe tbody tr th:only-of-type {\n",
       "        vertical-align: middle;\n",
       "    }\n",
       "\n",
       "    .dataframe tbody tr th {\n",
       "        vertical-align: top;\n",
       "    }\n",
       "\n",
       "    .dataframe thead th {\n",
       "        text-align: right;\n",
       "    }\n",
       "</style>\n",
       "<table border=\"1\" class=\"dataframe\">\n",
       "  <thead>\n",
       "    <tr style=\"text-align: right;\">\n",
       "      <th></th>\n",
       "      <th></th>\n",
       "      <th>2015</th>\n",
       "      <th>2016</th>\n",
       "      <th>2017</th>\n",
       "      <th>2018</th>\n",
       "      <th>2019</th>\n",
       "    </tr>\n",
       "  </thead>\n",
       "  <tbody>\n",
       "    <tr>\n",
       "      <th>0</th>\n",
       "      <td>Cash and cash equivalents</td>\n",
       "      <td>2,287.00</td>\n",
       "      <td>4,140.00</td>\n",
       "      <td>5,109.00</td>\n",
       "      <td>6,506.00</td>\n",
       "      <td>7,152.00</td>\n",
       "    </tr>\n",
       "    <tr>\n",
       "      <th>1</th>\n",
       "      <td>Short-term investments</td>\n",
       "      <td>1,234.00</td>\n",
       "      <td>258.00</td>\n",
       "      <td>319.00</td>\n",
       "      <td>296.00</td>\n",
       "      <td>803.00</td>\n",
       "    </tr>\n",
       "    <tr>\n",
       "      <th>2</th>\n",
       "      <td>Total cash, cash equivalents, and short-term i...</td>\n",
       "      <td>3,521.00</td>\n",
       "      <td>4,398.00</td>\n",
       "      <td>5,428.00</td>\n",
       "      <td>6,802.00</td>\n",
       "      <td>7,955.00</td>\n",
       "    </tr>\n",
       "    <tr>\n",
       "      <th>3</th>\n",
       "      <td>Accounts receivable</td>\n",
       "      <td>2,188.00</td>\n",
       "      <td>1,765.00</td>\n",
       "      <td>3,490.00</td>\n",
       "      <td>5,056.00</td>\n",
       "      <td>2,778.00</td>\n",
       "    </tr>\n",
       "    <tr>\n",
       "      <th>4</th>\n",
       "      <td>Inventory</td>\n",
       "      <td>2,340.00</td>\n",
       "      <td>2,889.00</td>\n",
       "      <td>3,123.00</td>\n",
       "      <td>3,595.00</td>\n",
       "      <td>5,118.00</td>\n",
       "    </tr>\n",
       "  </tbody>\n",
       "</table>\n",
       "</div>"
      ],
      "text/plain": [
       "                                                          2015      2016  \\\n",
       "0                          Cash and cash equivalents  2,287.00  4,140.00   \n",
       "1                             Short-term investments  1,234.00    258.00   \n",
       "2  Total cash, cash equivalents, and short-term i...  3,521.00  4,398.00   \n",
       "3                                Accounts receivable  2,188.00  1,765.00   \n",
       "4                                          Inventory  2,340.00  2,889.00   \n",
       "\n",
       "       2017      2018      2019  \n",
       "0  5,109.00  6,506.00  7,152.00  \n",
       "1    319.00    296.00    803.00  \n",
       "2  5,428.00  6,802.00  7,955.00  \n",
       "3  3,490.00  5,056.00  2,778.00  \n",
       "4  3,123.00  3,595.00  5,118.00  "
      ]
     },
     "execution_count": 12,
     "metadata": {},
     "output_type": "execute_result"
    }
   ],
   "source": [
    "#Create DataFrame\n",
    "Dict = {title:column for (title,column) in col}\n",
    "df = pd.DataFrame(Dict)\n"
   ]
  }
 ],
 "metadata": {
  "kernelspec": {
   "display_name": "Python 3",
   "language": "python",
   "name": "python3"
  },
  "language_info": {
   "codemirror_mode": {
    "name": "ipython",
    "version": 3
   },
   "file_extension": ".py",
   "mimetype": "text/x-python",
   "name": "python",
   "nbconvert_exporter": "python",
   "pygments_lexer": "ipython3",
   "version": "3.7.6"
  }
 },
 "nbformat": 4,
 "nbformat_minor": 4
}
