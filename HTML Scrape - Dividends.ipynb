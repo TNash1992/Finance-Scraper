{
 "cells": [
  {
   "cell_type": "code",
   "execution_count": 1,
   "metadata": {},
   "outputs": [],
   "source": [
    "import requests\n",
    "import lxml.html as lh\n",
    "import pandas as pd"
   ]
  },
  {
   "cell_type": "code",
   "execution_count": 2,
   "metadata": {},
   "outputs": [],
   "source": [
    "url = 'https://tools.morningstar.co.uk/uk/stockreport/default.aspx?tab=10&vw=div&SecurityToken=0P000003MC%5D3%5D0%5DE0WWE%24%24ALL&Id=0P000003MC&ClientFund=0&CurrencyId=BAS'\n"
   ]
  },
  {
   "cell_type": "code",
   "execution_count": 3,
   "metadata": {},
   "outputs": [],
   "source": [
    "#Create a handle, page, to handle the contents of the website\n",
    "page = requests.get(url)\n"
   ]
  },
  {
   "cell_type": "code",
   "execution_count": 4,
   "metadata": {},
   "outputs": [],
   "source": [
    "#Store contents of the website under doc\n",
    "doc = lh.fromstring(page.content)\n"
   ]
  },
  {
   "cell_type": "code",
   "execution_count": 5,
   "metadata": {},
   "outputs": [
    {
     "data": {
      "text/plain": [
       "<Element tr at 0x244e64f8818>"
      ]
     },
     "execution_count": 5,
     "metadata": {},
     "output_type": "execute_result"
    }
   ],
   "source": [
    "#Parse data stored between <tr>\n",
    "tr_elements = doc.xpath('//tr')\n",
    "tr_elements.pop(0)"
   ]
  },
  {
   "cell_type": "code",
   "execution_count": 6,
   "metadata": {},
   "outputs": [
    {
     "data": {
      "text/plain": [
       "[6, 6, 6, 6, 6, 6, 6, 6, 6, 6, 6, 6, 6, 4, 4, 4, 4]"
      ]
     },
     "execution_count": 6,
     "metadata": {},
     "output_type": "execute_result"
    }
   ],
   "source": [
    "#Check length of first 12 rows\n",
    "[len(T) for T in tr_elements[:20]]"
   ]
  },
  {
   "cell_type": "code",
   "execution_count": 7,
   "metadata": {},
   "outputs": [
    {
     "name": "stdout",
     "output_type": "stream",
     "text": [
      "1:\"Declared Date\"\n",
      "2:\"Ex Date\"\n",
      "3:\"Payment Date\"\n",
      "4:\"Type\"\n",
      "5:\"Currency\"\n",
      "6:\"Amount\"\n"
     ]
    }
   ],
   "source": [
    "#Parse first row as header (financial years)\n",
    "#Create empty list\n",
    "col=[]\n",
    "i=0\n",
    "\n",
    "#For each row, store each first elements (header) and an empty list\n",
    "for t in tr_elements[0]:\n",
    "    i+=1\n",
    "    name = t.text_content()\n",
    "    print('%d:\"%s\"'%(i,name))\n",
    "    col.append((name,[]))"
   ]
  },
  {
   "cell_type": "code",
   "execution_count": 8,
   "metadata": {},
   "outputs": [],
   "source": [
    "#Since first row is header, data stored on second row onwards\n",
    "for j in range(1,len(tr_elements)):\n",
    "    #T is our j'th row\n",
    "    T=tr_elements[j]\n",
    "    \n",
    "    #if row is not of size 6, the //tr data is not from our table (should just delete primary headings but retain line items)\n",
    "    if len(T)!=6:\n",
    "        continue\n",
    "        \n",
    "    #i is the index of our column\n",
    "    i=0\n",
    "    \n",
    "    #iterate through each element of row\n",
    "    for t in T.iterchildren():\n",
    "        data = t.text_content()\n",
    "        #check if row is empty\n",
    "        if i>0:\n",
    "            try:\n",
    "                data=int(data)\n",
    "            except:\n",
    "                pass\n",
    "        #Append data to empty list of the i'th column\n",
    "        col[i][1].append(data)\n",
    "        #Increment i for the next column\n",
    "        i+=1\n",
    "        "
   ]
  },
  {
   "cell_type": "code",
   "execution_count": 9,
   "metadata": {},
   "outputs": [
    {
     "data": {
      "text/plain": [
       "[12, 12, 12, 12, 12, 12]"
      ]
     },
     "execution_count": 9,
     "metadata": {},
     "output_type": "execute_result"
    }
   ],
   "source": [
    "#check column lengths\n",
    "[len(C) for (title,C) in col]"
   ]
  },
  {
   "cell_type": "code",
   "execution_count": 10,
   "metadata": {
    "scrolled": true
   },
   "outputs": [
    {
     "data": {
      "text/html": [
       "<div>\n",
       "<style scoped>\n",
       "    .dataframe tbody tr th:only-of-type {\n",
       "        vertical-align: middle;\n",
       "    }\n",
       "\n",
       "    .dataframe tbody tr th {\n",
       "        vertical-align: top;\n",
       "    }\n",
       "\n",
       "    .dataframe thead th {\n",
       "        text-align: right;\n",
       "    }\n",
       "</style>\n",
       "<table border=\"1\" class=\"dataframe\">\n",
       "  <thead>\n",
       "    <tr style=\"text-align: right;\">\n",
       "      <th></th>\n",
       "      <th>Declared Date</th>\n",
       "      <th>Ex Date</th>\n",
       "      <th>Payment Date</th>\n",
       "      <th>Type</th>\n",
       "      <th>Currency</th>\n",
       "      <th>Amount</th>\n",
       "    </tr>\n",
       "  </thead>\n",
       "  <tbody>\n",
       "    <tr>\n",
       "      <th>0</th>\n",
       "      <td>30/04/1996</td>\n",
       "      <td>07/05/1996</td>\n",
       "      <td>31/05/1996</td>\n",
       "      <td>Cash Dividend</td>\n",
       "      <td>USD</td>\n",
       "      <td>0.03</td>\n",
       "    </tr>\n",
       "    <tr>\n",
       "      <th>1</th>\n",
       "      <td>19/12/1995</td>\n",
       "      <td>26/12/1995</td>\n",
       "      <td>18/01/1996</td>\n",
       "      <td>Cash Dividend</td>\n",
       "      <td>USD</td>\n",
       "      <td>0.03</td>\n",
       "    </tr>\n",
       "    <tr>\n",
       "      <th>2</th>\n",
       "      <td>30/10/1995</td>\n",
       "      <td>08/11/1995</td>\n",
       "      <td>01/12/1995</td>\n",
       "      <td>Cash Dividend</td>\n",
       "      <td>USD</td>\n",
       "      <td>0.03</td>\n",
       "    </tr>\n",
       "    <tr>\n",
       "      <th>3</th>\n",
       "      <td>01/08/1995</td>\n",
       "      <td>09/08/1995</td>\n",
       "      <td>21/08/1995</td>\n",
       "      <td>Cash Dividend</td>\n",
       "      <td>USD</td>\n",
       "      <td>0.03</td>\n",
       "    </tr>\n",
       "    <tr>\n",
       "      <th>4</th>\n",
       "      <td>27/03/1995</td>\n",
       "      <td>30/05/1995</td>\n",
       "      <td>14/06/1995</td>\n",
       "      <td>Cash Dividend</td>\n",
       "      <td>USD</td>\n",
       "      <td>0.03</td>\n",
       "    </tr>\n",
       "  </tbody>\n",
       "</table>\n",
       "</div>"
      ],
      "text/plain": [
       "  Declared Date     Ex Date Payment Date           Type Currency Amount\n",
       "0    30/04/1996  07/05/1996   31/05/1996  Cash Dividend      USD   0.03\n",
       "1    19/12/1995  26/12/1995   18/01/1996  Cash Dividend      USD   0.03\n",
       "2    30/10/1995  08/11/1995   01/12/1995  Cash Dividend      USD   0.03\n",
       "3    01/08/1995  09/08/1995   21/08/1995  Cash Dividend      USD   0.03\n",
       "4    27/03/1995  30/05/1995   14/06/1995  Cash Dividend      USD   0.03"
      ]
     },
     "execution_count": 10,
     "metadata": {},
     "output_type": "execute_result"
    }
   ],
   "source": [
    "#Create DataFrame\n",
    "Dict = {title:column for (title,column) in col}\n",
    "df = pd.DataFrame(Dict)\n",
    "\n",
    "df.head()"
   ]
  }
 ],
 "metadata": {
  "kernelspec": {
   "display_name": "Python 3",
   "language": "python",
   "name": "python3"
  },
  "language_info": {
   "codemirror_mode": {
    "name": "ipython",
    "version": 3
   },
   "file_extension": ".py",
   "mimetype": "text/x-python",
   "name": "python",
   "nbconvert_exporter": "python",
   "pygments_lexer": "ipython3",
   "version": "3.7.6"
  }
 },
 "nbformat": 4,
 "nbformat_minor": 4
}
