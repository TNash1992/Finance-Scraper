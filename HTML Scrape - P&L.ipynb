{
 "cells": [
  {
   "cell_type": "code",
   "execution_count": 1,
   "metadata": {},
   "outputs": [],
   "source": [
    "import requests\n",
    "import lxml.html as lh\n",
    "import pandas as pd"
   ]
  },
  {
   "cell_type": "code",
   "execution_count": 2,
   "metadata": {},
   "outputs": [],
   "source": [
    "url = 'https://tools.morningstar.co.uk/uk/stockreport/default.aspx?tab=10&vw=is&SecurityToken=0P000003MC%5D3%5D0%5DE0WWE%24%24ALL&Id=0P000003MC&ClientFund=0&CurrencyId=BAS'\n"
   ]
  },
  {
   "cell_type": "code",
   "execution_count": 3,
   "metadata": {},
   "outputs": [],
   "source": [
    "#Create a handle, page, to handle the contents of the website\n",
    "page = requests.get(url)\n"
   ]
  },
  {
   "cell_type": "code",
   "execution_count": 4,
   "metadata": {},
   "outputs": [],
   "source": [
    "#Store contents of the website under doc\n",
    "doc = lh.fromstring(page.content)\n"
   ]
  },
  {
   "cell_type": "code",
   "execution_count": 5,
   "metadata": {},
   "outputs": [
    {
     "data": {
      "text/plain": [
       "<Element tr at 0x1f7abc5b868>"
      ]
     },
     "execution_count": 5,
     "metadata": {},
     "output_type": "execute_result"
    }
   ],
   "source": [
    "#Parse data stored between <tr>\n",
    "tr_elements = doc.xpath('//tr')\n",
    "tr_elements.pop(0)"
   ]
  },
  {
   "cell_type": "code",
   "execution_count": 6,
   "metadata": {},
   "outputs": [
    {
     "data": {
      "text/plain": [
       "[6, 6, 6, 6, 1, 6, 6, 6, 6, 6, 6, 6, 6, 6, 6, 6, 6, 6, 1, 6]"
      ]
     },
     "execution_count": 6,
     "metadata": {},
     "output_type": "execute_result"
    }
   ],
   "source": [
    "#Check length of first 12 rows\n",
    "[len(T) for T in tr_elements[:20]]"
   ]
  },
  {
   "cell_type": "code",
   "execution_count": 7,
   "metadata": {},
   "outputs": [
    {
     "name": "stdout",
     "output_type": "stream",
     "text": [
      "1:\"\"\n",
      "2:\"2015\"\n",
      "3:\"2016\"\n",
      "4:\"2017\"\n",
      "5:\"2018\"\n",
      "6:\"2019\"\n"
     ]
    }
   ],
   "source": [
    "#Parse first row as header (financial years)\n",
    "#Create empty list\n",
    "col=[]\n",
    "i=0\n",
    "\n",
    "#For each row, store each first elements (header) and an empty list\n",
    "for t in tr_elements[0]:\n",
    "    i+=1\n",
    "    name = t.text_content()\n",
    "    print('%d:\"%s\"'%(i,name))\n",
    "    col.append((name,[]))"
   ]
  },
  {
   "cell_type": "code",
   "execution_count": 8,
   "metadata": {},
   "outputs": [],
   "source": [
    "#Since first row is header, data stored on second row onwards\n",
    "for j in range(1,len(tr_elements)):\n",
    "    #T is our j'th row\n",
    "    T=tr_elements[j]\n",
    "    \n",
    "    #if row is not of size 6, the //tr data is not from our table (should just delete primary headings but retain line items)\n",
    "    if len(T)!=6:\n",
    "        continue\n",
    "        \n",
    "    #i is the index of our column\n",
    "    i=0\n",
    "    \n",
    "    #iterate through each element of row\n",
    "    for t in T.iterchildren():\n",
    "        data = t.text_content()\n",
    "        #check if row is empty\n",
    "        if i>0:\n",
    "            try:\n",
    "                data=int(data)\n",
    "            except:\n",
    "                pass\n",
    "        #Append data to empty list of the i'th column\n",
    "        col[i][1].append(data)\n",
    "        #Increment i for the next column\n",
    "        i+=1\n",
    "        "
   ]
  },
  {
   "cell_type": "code",
   "execution_count": 9,
   "metadata": {},
   "outputs": [
    {
     "data": {
      "text/plain": [
       "[18, 18, 18, 18, 18, 18]"
      ]
     },
     "execution_count": 9,
     "metadata": {},
     "output_type": "execute_result"
    }
   ],
   "source": [
    "#check column lengths\n",
    "[len(C) for (title,C) in col]"
   ]
  },
  {
   "cell_type": "code",
   "execution_count": 10,
   "metadata": {
    "scrolled": true
   },
   "outputs": [
    {
     "data": {
      "text/html": [
       "<div>\n",
       "<style scoped>\n",
       "    .dataframe tbody tr th:only-of-type {\n",
       "        vertical-align: middle;\n",
       "    }\n",
       "\n",
       "    .dataframe tbody tr th {\n",
       "        vertical-align: top;\n",
       "    }\n",
       "\n",
       "    .dataframe thead th {\n",
       "        text-align: right;\n",
       "    }\n",
       "</style>\n",
       "<table border=\"1\" class=\"dataframe\">\n",
       "  <thead>\n",
       "    <tr style=\"text-align: right;\">\n",
       "      <th></th>\n",
       "      <th></th>\n",
       "      <th>2015</th>\n",
       "      <th>2016</th>\n",
       "      <th>2017</th>\n",
       "      <th>2018</th>\n",
       "      <th>2019</th>\n",
       "    </tr>\n",
       "  </thead>\n",
       "  <tbody>\n",
       "    <tr>\n",
       "      <th>0</th>\n",
       "      <td>Revenue</td>\n",
       "      <td>16,192.00</td>\n",
       "      <td>12,399.00</td>\n",
       "      <td>20,322.00</td>\n",
       "      <td>30,391.00</td>\n",
       "      <td>23,406.00</td>\n",
       "    </tr>\n",
       "    <tr>\n",
       "      <th>1</th>\n",
       "      <td>Cost of Revenue</td>\n",
       "      <td>10,977.00</td>\n",
       "      <td>9,894.00</td>\n",
       "      <td>11,886.00</td>\n",
       "      <td>12,500.00</td>\n",
       "      <td>12,704.00</td>\n",
       "    </tr>\n",
       "    <tr>\n",
       "      <th>2</th>\n",
       "      <td>Gross Operating Profit</td>\n",
       "      <td>5,215.00</td>\n",
       "      <td>2,505.00</td>\n",
       "      <td>8,436.00</td>\n",
       "      <td>17,891.00</td>\n",
       "      <td>10,702.00</td>\n",
       "    </tr>\n",
       "    <tr>\n",
       "      <th>3</th>\n",
       "      <td>Research and development</td>\n",
       "      <td>1,540.00</td>\n",
       "      <td>1,617.00</td>\n",
       "      <td>1,824.00</td>\n",
       "      <td>2,141.00</td>\n",
       "      <td>2,441.00</td>\n",
       "    </tr>\n",
       "    <tr>\n",
       "      <th>4</th>\n",
       "      <td>Sales, general and administrative</td>\n",
       "      <td>719.00</td>\n",
       "      <td>659.00</td>\n",
       "      <td>743.00</td>\n",
       "      <td>813.00</td>\n",
       "      <td>836.00</td>\n",
       "    </tr>\n",
       "  </tbody>\n",
       "</table>\n",
       "</div>"
      ],
      "text/plain": [
       "                                           2015       2016       2017  \\\n",
       "0                            Revenue  16,192.00  12,399.00  20,322.00   \n",
       "1                    Cost of Revenue  10,977.00   9,894.00  11,886.00   \n",
       "2             Gross Operating Profit   5,215.00   2,505.00   8,436.00   \n",
       "3           Research and development   1,540.00   1,617.00   1,824.00   \n",
       "4  Sales, general and administrative     719.00     659.00     743.00   \n",
       "\n",
       "        2018       2019  \n",
       "0  30,391.00  23,406.00  \n",
       "1  12,500.00  12,704.00  \n",
       "2  17,891.00  10,702.00  \n",
       "3   2,141.00   2,441.00  \n",
       "4     813.00     836.00  "
      ]
     },
     "execution_count": 10,
     "metadata": {},
     "output_type": "execute_result"
    }
   ],
   "source": [
    "#Create DataFrame\n",
    "Dict = {title:column for (title,column) in col}\n",
    "df = pd.DataFrame(Dict)\n"
   ]
  }
 ],
 "metadata": {
  "kernelspec": {
   "display_name": "Python 3",
   "language": "python",
   "name": "python3"
  },
  "language_info": {
   "codemirror_mode": {
    "name": "ipython",
    "version": 3
   },
   "file_extension": ".py",
   "mimetype": "text/x-python",
   "name": "python",
   "nbconvert_exporter": "python",
   "pygments_lexer": "ipython3",
   "version": "3.7.6"
  }
 },
 "nbformat": 4,
 "nbformat_minor": 4
}
